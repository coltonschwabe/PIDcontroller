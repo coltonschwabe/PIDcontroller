{
 "cells": [
  {
   "cell_type": "code",
   "execution_count": 9,
   "metadata": {},
   "outputs": [],
   "source": [
    "import control as ctrl\n",
    "import numpy as np\n",
    "import matplotlib.pyplot as plt"
   ]
  },
  {
   "cell_type": "markdown",
   "metadata": {},
   "source": [
    "KLT_transfer() models transfer function $G(s) = \\frac{K}{1+sT}e^{-sL}$"
   ]
  },
  {
   "cell_type": "code",
   "execution_count": 10,
   "metadata": {},
   "outputs": [],
   "source": [
    "def KLT_transfer(Kp,L,T):\n",
    "    numer = [Kp]\n",
    "    deno = [T,1]\n",
    "    \n",
    "    # modeling the time delay\n",
    "    delay_approx = ctrl.pade(L,3)\n",
    "    delay_num, delay_den = delay_approx\n",
    "    \n",
    "    system_without_delay = ctrl.TransferFunction(numer, deno)\n",
    "    delay_tf = ctrl.TransferFunction(delay_num, delay_den)\n",
    "    system_with_delay = ctrl.series(system_without_delay, delay_tf)\n",
    "    \n",
    "    return system_with_delay\n",
    "    \n"
   ]
  },
  {
   "cell_type": "markdown",
   "metadata": {},
   "source": [
    "PI_loopfilter() models PI controller with term $K_p + K_i \\frac{1}{s}$"
   ]
  },
  {
   "cell_type": "code",
   "execution_count": 11,
   "metadata": {},
   "outputs": [],
   "source": [
    "def PI_loopfilter(Kp,Ti):\n",
    "    Ki = Kp/Ti\n",
    "    return ctrl.TransferFunction([Kp, Ki], [1, 0]) # (sKp + Ki)/s\n",
    "    \n"
   ]
  },
  {
   "cell_type": "code",
   "execution_count": 12,
   "metadata": {},
   "outputs": [
    {
     "data": {
      "image/png": "[encoded data removed]",
      "text/plain": [
       "<Figure size 640x480 with 1 Axes>"
      ]
     },
     "metadata": {},
     "output_type": "display_data"
    }
   ],
   "source": [
    "Kp = -0.000912\n",
    "L = 1.5\n",
    "T = 110.5\n",
    "\n",
    "K = 0.15 / Kp + (0.35 - L*T / ((L + T)*(L + T)))*(T / (Kp * L))\n",
    "Ti = 0.35 * L + 6.7*L*T*T / (T*T + 2*L*T + 10*L*L)\n",
    "\n",
    "controller = PI_loopfilter(K, Ti)\n",
    "temp_system = KLT_transfer(Kp, L, T)\n",
    "closed_loop = ctrl.feedback(controller * temp_system, 1, -1) #system1, system2, feedback or feedforward\n",
    "#time, response = ctrl.step_response(closed_loop, np.linspace(0,60,500))\n",
    "times = np.linspace(0, 60*4, 500*4)\n",
    "dt = times[1] - times[0]\n",
    "vals = np.concatenate((np.full(500, 19.50), np.full(500, 20.5), np.full(500, 19.5), np.full(500, 20.5)))\n",
    "\n",
    "state = 0\n",
    "\n",
    "response = []\n",
    "\n",
    "for i in range(0, len(times)-1):\n",
    "    t, r, s = ctrl.forced_response(closed_loop, [times[i], times[i + 1]], [vals[i], vals[i+1]], X0=state, return_x = True) #time, response\n",
    "    response.append(np.squeeze(r[-1]))\n",
    "    #print(np.squeeze(r[-1]))\n",
    "    state = np.squeeze(s[:,-1])\n",
    "\n",
    "plt.plot(times[:-1], response)\n",
    "plt.plot(times, vals)\n",
    "plt.show()"
   ]
  }
 ],
 "metadata": {
  "kernelspec": {
   "display_name": ".venv",
   "language": "python",
   "name": "python3"
  },
  "language_info": {
   "codemirror_mode": {
    "name": "ipython",
    "version": 3
   },
   "file_extension": ".py",
   "mimetype": "text/x-python",
   "name": "python",
   "nbconvert_exporter": "python",
   "pygments_lexer": "ipython3",
   "version": "3.13.3"
  }
 },
 "nbformat": 4,
 "nbformat_minor": 2
}
