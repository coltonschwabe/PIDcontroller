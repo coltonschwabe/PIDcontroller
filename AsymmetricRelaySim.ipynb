{
 "cells": [
  {
   "cell_type": "code",
   "execution_count": null,
   "metadata": {},
   "outputs": [],
   "source": [
    "import control as ctrl\n",
    "import numpy as np\n",
    "import matplotlib.pyplot as plt\n",
    "\n",
    "def KLT_transfer(Kp,L,T):\n",
    "    numer = [Kp]\n",
    "    deno = [T,1]\n",
    "    \n",
    "    # modeling the time delay\n",
    "    delay_approx = ctrl.pade(L,3)\n",
    "    delay_num, delay_den = delay_approx\n",
    "    \n",
    "    system_without_delay = ctrl.TransferFunction(numer, deno)\n",
    "    delay_tf = ctrl.TransferFunction(delay_num, delay_den)\n",
    "    system_with_delay = ctrl.series(system_without_delay, delay_tf)\n",
    "    \n",
    "    return system_with_delay\n",
    "    \n",
    "Kp = -0.000912\n",
    "L = 1.5\n",
    "T = 110.5\n",
    "\n",
    "K = 0.15 / Kp + (0.35 - L*T / ((L + T)*(L + T)))*(T / (Kp * L))\n",
    "Ti = 0.35 * L + 6.7*L*T*T / (T*T + 2*L*T + 10*L*L)\n",
    "\n",
    "temp_system = KLT_transfer(Kp, L, T)\n",
    "times = np.linspace(0, 60*4, 500*4)\n",
    "\n",
    "recordedTimes = []\n",
    "tempThreshold = 0\n",
    "controlThreshold = 0\n",
    "\n",
    "dt = times[1] - times[0]\n",
    "vals = np.full(500*4, 20)\n",
    "\n",
    "state = 0\n",
    "response = []\n",
    "integral = 0\n",
    "currentresp = 0 # current response\n",
    "countertime = 0"
   ]
  },
  {
   "cell_type": "markdown",
   "metadata": {},
   "source": [
    "To begin the assymetric relay autotuning, the system needs to be brough to an equilibrium working point so that a working point control output $u_0$ and working point system temperature output $y_0$ can be established.\n",
    "\n",
    "For this simulation, we'll use predetermined PID values to get the system to 20 degrees Celcius. In practice, we should be able to use general PID values from a previous controller to get our system into equilibrium, even if they aren't the optimal values."
   ]
  },
  {
   "cell_type": "code",
   "execution_count": 1,
   "metadata": {},
   "outputs": [
    {
     "ename": "NameError",
     "evalue": "name 'times' is not defined",
     "output_type": "error",
     "traceback": [
      "\u001b[31m---------------------------------------------------------------------------\u001b[39m",
      "\u001b[31mNameError\u001b[39m                                 Traceback (most recent call last)",
      "\u001b[36mCell\u001b[39m\u001b[36m \u001b[39m\u001b[32mIn[1]\u001b[39m\u001b[32m, line 1\u001b[39m\n\u001b[32m----> \u001b[39m\u001b[32m1\u001b[39m \u001b[38;5;28;01mfor\u001b[39;00m i \u001b[38;5;129;01min\u001b[39;00m \u001b[38;5;28mrange\u001b[39m(\u001b[32m0\u001b[39m, \u001b[38;5;28mlen\u001b[39m(\u001b[43mtimes\u001b[49m)-\u001b[32m1\u001b[39m):\n\u001b[32m      2\u001b[39m     error = vals[i] - currentresp\n\u001b[32m      4\u001b[39m     PIDval = K/Ti * integral + K * error\n",
      "\u001b[31mNameError\u001b[39m: name 'times' is not defined"
     ]
    }
   ],
   "source": [
    "for i in range(0, len(times)-1):\n",
    "    error = vals[i] - currentresp\n",
    "    \n",
    "    PIDval = K/Ti * integral + K * error\n",
    "\n",
    "    t, r, s = ctrl.forced_response(temp_system, [times[i], times[i + 1]], [PIDval, PIDval], X0=state, return_x = True) #time, response\n",
    "    currentresp = np.squeeze(r[-1])\n",
    "    response.append(currentresp)\n",
    "\n",
    "    recordedTimes.append(times[i])\n",
    "\n",
    "    integral += error * dt\n",
    "\n",
    "    state = np.squeeze(s[:,-1])\n",
    "\n",
    "    if (i >= 1): #measures amount of time that temperature and control stays within threshold\n",
    "        if (countertime == 0): \n",
    "            tempThreshold = response[-1]\n",
    "            controlThreshold = PIDval\n",
    "\n",
    "            countertime += dt\n",
    "        elif(abs(tempThreshold - response[-1]) < 0.1 and abs(PIDval - controlThreshold) < 100): #adds to countertime if temperature and controll output are within threshold \n",
    "            countertime += dt\n",
    "        else:\n",
    "            countertime = 0\n",
    "    \n",
    "    if countertime > 10: #if stays within threshold for three seconds, break\n",
    "        print(\"Working point output control: \" + str(PIDval))\n",
    "        print(\"Working point temperature: \" + str(response[-1]))\n",
    "        break\n",
    "\n",
    "plt.plot(recordedTimes, response)\n",
    "#plt.plot(recordedTimes, vals, label = 'Setpoint')\n",
    "plt.xlabel('Time (s)')\n",
    "plt.ylabel('Temperature (C)')\n",
    "plt.show()"
   ]
  }
 ],
 "metadata": {
  "kernelspec": {
   "display_name": ".venv",
   "language": "python",
   "name": "python3"
  },
  "language_info": {
   "codemirror_mode": {
    "name": "ipython",
    "version": 3
   },
   "file_extension": ".py",
   "mimetype": "text/x-python",
   "name": "python",
   "nbconvert_exporter": "python",
   "pygments_lexer": "ipython3",
   "version": "3.13.3"
  }
 },
 "nbformat": 4,
 "nbformat_minor": 2
}
